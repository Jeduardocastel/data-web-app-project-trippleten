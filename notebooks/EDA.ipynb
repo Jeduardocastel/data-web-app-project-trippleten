{
 "cells": [
  {
   "cell_type": "code",
   "execution_count": null,
   "metadata": {},
   "outputs": [],
   "source": [
    "import plotly.express as px\n",
    "import pandas as pd\n",
    "\n",
    "# Cargar un conjunto de datos de ejemplo\n",
    "df = px.data.iris()  # Puedes usar tus propios datos cargándolos con pandas\n",
    "\n",
    "# Crear un gráfico de dispersión (scatter plot)\n",
    "fig = px.scatter(df, x='sepal_width', y='sepal_length', color='species',\n",
    "                 title=\"Scatter plot de Iris Dataset\")\n",
    "fig.show()\n",
    "\n",
    "# Crear un histograma\n",
    "fig = px.histogram(df, x='sepal_width', title=\"Histograma de ancho de sépalo\")\n",
    "fig.show()"
   ]
  }
 ],
 "metadata": {
  "language_info": {
   "name": "python"
  }
 },
 "nbformat": 4,
 "nbformat_minor": 2
}

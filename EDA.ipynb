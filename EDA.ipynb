{
 "cells": [
  {
   "cell_type": "code",
   "execution_count": 2,
   "metadata": {},
   "outputs": [
    {
     "ename": "SyntaxError",
     "evalue": "invalid syntax (common.py, line 1)",
     "output_type": "error",
     "traceback": [
      "Traceback \u001b[1;36m(most recent call last)\u001b[0m:\n",
      "\u001b[0m  File \u001b[0;32m~\\AppData\\Roaming\\Python\\Python312\\site-packages\\IPython\\core\\interactiveshell.py:3577\u001b[0m in \u001b[0;35mrun_code\u001b[0m\n    exec(code_obj, self.user_global_ns, self.user_ns)\u001b[0m\n",
      "\u001b[0m  Cell \u001b[0;32mIn[2], line 1\u001b[0m\n    import pandas as pd\u001b[0m\n",
      "\u001b[0m  File \u001b[0;32mc:\\Users\\jairo\\anaconda3\\envs\\Data\\Lib\\site-packages\\pandas\\__init__.py:62\u001b[0m\n    from pandas.core.api import (\u001b[0m\n",
      "\u001b[0m  File \u001b[0;32mc:\\Users\\jairo\\anaconda3\\envs\\Data\\Lib\\site-packages\\pandas\\core\\api.py:47\u001b[0m\n    from pandas.core.groupby import (\u001b[0m\n",
      "\u001b[0m  File \u001b[0;32mc:\\Users\\jairo\\anaconda3\\envs\\Data\\Lib\\site-packages\\pandas\\core\\groupby\\__init__.py:1\u001b[0m\n    from pandas.core.groupby.generic import (\u001b[0m\n",
      "\u001b[0m  File \u001b[0;32mc:\\Users\\jairo\\anaconda3\\envs\\Data\\Lib\\site-packages\\pandas\\core\\groupby\\generic.py:68\u001b[0m\n    from pandas.core.frame import DataFrame\u001b[0m\n",
      "\u001b[0m  File \u001b[0;32mc:\\Users\\jairo\\anaconda3\\envs\\Data\\Lib\\site-packages\\pandas\\core\\frame.py:149\u001b[0m\n    from pandas.core.generic import (\u001b[0m\n",
      "\u001b[0m  File \u001b[0;32mc:\\Users\\jairo\\anaconda3\\envs\\Data\\Lib\\site-packages\\pandas\\core\\generic.py:184\u001b[0m\n    from pandas.core.methods.describe import describe_ndframe\u001b[0m\n",
      "\u001b[0m  File \u001b[0;32mc:\\Users\\jairo\\anaconda3\\envs\\Data\\Lib\\site-packages\\pandas\\core\\methods\\describe.py:41\u001b[0m\n    from pandas.io.formats.format import format_percentiles\u001b[0m\n",
      "\u001b[1;36m  File \u001b[1;32mc:\\Users\\jairo\\anaconda3\\envs\\Data\\Lib\\site-packages\\pandas\\io\\formats\\format.py:82\u001b[1;36m\n\u001b[1;33m    from pandas.io.common import (\u001b[1;36m\n",
      "\u001b[1;36m  File \u001b[1;32mc:\\Users\\jairo\\anaconda3\\envs\\Data\\Lib\\site-packages\\pandas\\io\\common.py:1\u001b[1;36m\u001b[0m\n\u001b[1;33m    00000000000000000000\"\"\"Common IO api utilities\"\"\"\u001b[0m\n\u001b[1;37m                        ^\u001b[0m\n\u001b[1;31mSyntaxError\u001b[0m\u001b[1;31m:\u001b[0m invalid syntax\n"
     ]
    }
   ],
   "source": [
    "import pandas as pd\n",
    "import plotly.express as px\n",
    "\n",
    "car_data = pd.read_csv('vehicles_us.csv') # leer los datos\n",
    "fig = px.histogram(car_data, x=\"odometer\") # crear un histograma\n",
    "fig.show() # crear gráfico de dispersión"
   ]
  }
 ],
 "metadata": {
  "kernelspec": {
   "display_name": "Data",
   "language": "python",
   "name": "python3"
  },
  "language_info": {
   "codemirror_mode": {
    "name": "ipython",
    "version": 3
   },
   "file_extension": ".py",
   "mimetype": "text/x-python",
   "name": "python",
   "nbconvert_exporter": "python",
   "pygments_lexer": "ipython3",
   "version": "3.12.4"
  }
 },
 "nbformat": 4,
 "nbformat_minor": 2
}
